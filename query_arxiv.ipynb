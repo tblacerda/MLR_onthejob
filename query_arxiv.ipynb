{
 "metadata": {
  "language_info": {
   "codemirror_mode": {
    "name": "ipython",
    "version": 3
   },
   "file_extension": ".py",
   "mimetype": "text/x-python",
   "name": "python",
   "nbconvert_exporter": "python",
   "pygments_lexer": "ipython3",
   "version": "3.7.4-final"
  },
  "orig_nbformat": 2,
  "kernelspec": {
   "name": "python37464bitbasecondaa44a3ce270ea40b0b3b8e5af84e16212",
   "display_name": "Python 3.7.4 64-bit ('base': conda)",
   "language": "python"
  }
 },
 "nbformat": 4,
 "nbformat_minor": 2,
 "cells": [
  {
   "source": [
    "# Base do ArXiv disponivel no Kaggle\n",
    "\n",
    "--------------"
   ],
   "cell_type": "markdown",
   "metadata": {}
  },
  {
   "cell_type": "code",
   "execution_count": 1,
   "metadata": {},
   "outputs": [],
   "source": [
    "import pandas as pd\n",
    "import json"
   ]
  },
  {
   "cell_type": "code",
   "execution_count": 2,
   "metadata": {},
   "outputs": [],
   "source": [
    "def get_metadata():\n",
    "    with open('./arxiv-metadata-oai-snapshot.json/arxiv-metadata-oai-snapshot.json', 'r') as f:\n",
    "        for line in f:\n",
    "            yield line"
   ]
  },
  {
   "cell_type": "code",
   "execution_count": 3,
   "metadata": {},
   "outputs": [],
   "source": [
    "metadata = get_metadata()"
   ]
  },
  {
   "cell_type": "code",
   "execution_count": 4,
   "metadata": {},
   "outputs": [],
   "source": [
    "titles_tags_dict = {\"title\":[], \"tags\":[], \"authors\":[],\"abstract\":[],\"doi\":[]}\n",
    "\n",
    "for paper in metadata:\n",
    "    parsed = json.loads(paper)\n",
    "    titles_tags_dict[\"title\"].append(parsed['title'])\n",
    "    titles_tags_dict[\"tags\"].append(parsed['categories'])\n",
    "    titles_tags_dict[\"authors\"].append(parsed['authors'])\n",
    "    titles_tags_dict[\"abstract\"].append(parsed['abstract'])\n",
    "    titles_tags_dict[\"doi\"].append(parsed['doi'])\n"
   ]
  },
  {
   "cell_type": "code",
   "execution_count": 5,
   "metadata": {},
   "outputs": [],
   "source": [
    "titles_tags_df = pd.DataFrame.from_records(titles_tags_dict)"
   ]
  },
  {
   "cell_type": "code",
   "execution_count": 6,
   "metadata": {},
   "outputs": [
    {
     "output_type": "execute_result",
     "data": {
      "text/plain": [
       "                                            abstract  \\\n",
       "0    A fully differential calculation in perturba...   \n",
       "1    We describe a new algorithm, the $(k,\\ell)$-...   \n",
       "2    The evolution of Earth-Moon system is descri...   \n",
       "3    We show that a determinant of Stirling cycle...   \n",
       "4    In this paper we show how to compute the $\\L...   \n",
       "\n",
       "                                             authors  \\\n",
       "0  C. Bal\\'azs, E. L. Berger, P. M. Nadolsky, C.-...   \n",
       "1                    Ileana Streinu and Louis Theran   \n",
       "2                                        Hongjun Pan   \n",
       "3                                       David Callan   \n",
       "4           Wael Abu-Shammala and Alberto Torchinsky   \n",
       "\n",
       "                          doi             tags  \\\n",
       "0  10.1103/PhysRevD.76.013009           hep-ph   \n",
       "1                        None    math.CO cs.CG   \n",
       "2                        None   physics.gen-ph   \n",
       "3                        None          math.CO   \n",
       "4                        None  math.CA math.FA   \n",
       "\n",
       "                                               title  \n",
       "0  Calculation of prompt diphoton production cros...  \n",
       "1           Sparsity-certifying Graph Decompositions  \n",
       "2  The evolution of the Earth-Moon system based o...  \n",
       "3  A determinant of Stirling cycle numbers counts...  \n",
       "4  From dyadic $\\Lambda_{\\alpha}$ to $\\Lambda_{\\a...  "
      ],
      "text/html": "<div>\n<style scoped>\n    .dataframe tbody tr th:only-of-type {\n        vertical-align: middle;\n    }\n\n    .dataframe tbody tr th {\n        vertical-align: top;\n    }\n\n    .dataframe thead th {\n        text-align: right;\n    }\n</style>\n<table border=\"1\" class=\"dataframe\">\n  <thead>\n    <tr style=\"text-align: right;\">\n      <th></th>\n      <th>abstract</th>\n      <th>authors</th>\n      <th>doi</th>\n      <th>tags</th>\n      <th>title</th>\n    </tr>\n  </thead>\n  <tbody>\n    <tr>\n      <td>0</td>\n      <td>A fully differential calculation in perturba...</td>\n      <td>C. Bal\\'azs, E. L. Berger, P. M. Nadolsky, C.-...</td>\n      <td>10.1103/PhysRevD.76.013009</td>\n      <td>hep-ph</td>\n      <td>Calculation of prompt diphoton production cros...</td>\n    </tr>\n    <tr>\n      <td>1</td>\n      <td>We describe a new algorithm, the $(k,\\ell)$-...</td>\n      <td>Ileana Streinu and Louis Theran</td>\n      <td>None</td>\n      <td>math.CO cs.CG</td>\n      <td>Sparsity-certifying Graph Decompositions</td>\n    </tr>\n    <tr>\n      <td>2</td>\n      <td>The evolution of Earth-Moon system is descri...</td>\n      <td>Hongjun Pan</td>\n      <td>None</td>\n      <td>physics.gen-ph</td>\n      <td>The evolution of the Earth-Moon system based o...</td>\n    </tr>\n    <tr>\n      <td>3</td>\n      <td>We show that a determinant of Stirling cycle...</td>\n      <td>David Callan</td>\n      <td>None</td>\n      <td>math.CO</td>\n      <td>A determinant of Stirling cycle numbers counts...</td>\n    </tr>\n    <tr>\n      <td>4</td>\n      <td>In this paper we show how to compute the $\\L...</td>\n      <td>Wael Abu-Shammala and Alberto Torchinsky</td>\n      <td>None</td>\n      <td>math.CA math.FA</td>\n      <td>From dyadic $\\Lambda_{\\alpha}$ to $\\Lambda_{\\a...</td>\n    </tr>\n  </tbody>\n</table>\n</div>"
     },
     "metadata": {},
     "execution_count": 6
    }
   ],
   "source": [
    "titles_tags_df.head(5)\n"
   ]
  },
  {
   "cell_type": "code",
   "execution_count": 7,
   "metadata": {},
   "outputs": [],
   "source": [
    "def filtro(abstract,title):\n",
    "    retorno = False\n",
    "    \n",
    "    strings = [\"FEDERATED LEARNING\",\n",
    "          \"FEDERATED INTELLIGENCE\",\n",
    "          \"FEDERATED MACHINE LEARNING\",\n",
    "          \"FEDERATED AI\",\n",
    "          \"FEDERATED ML\",\n",
    "          \"FEDERATED ARTIFICIAL INTELLIGENCE\",\n",
    "          \"FEDERATED TRAINNING\"]\n",
    "\n",
    "    for string in strings:\n",
    "        if string in abstract.upper(): \n",
    "            retorno = True\n",
    "        \n",
    "        if string in title.upper(): \n",
    "            retorno = True\n",
    "    \n",
    "    return retorno\n",
    "        "
   ]
  },
  {
   "cell_type": "code",
   "execution_count": 16,
   "metadata": {},
   "outputs": [],
   "source": [
    "titles_tags_df['filtro'] = titles_tags_df.apply(lambda x: filtro(x['abstract'], x['title']), axis=1 )"
   ]
  },
  {
   "cell_type": "code",
   "execution_count": 18,
   "metadata": {},
   "outputs": [],
   "source": [
    "df = titles_tags_df.loc[titles_tags_df['filtro'] == True]"
   ]
  },
  {
   "cell_type": "code",
   "execution_count": 20,
   "metadata": {},
   "outputs": [
    {
     "output_type": "error",
     "ename": "TypeError",
     "evalue": "to_excel() missing 1 required positional argument: 'excel_writer'",
     "traceback": [
      "\u001b[1;31m---------------------------------------------------------------------------\u001b[0m",
      "\u001b[1;31mTypeError\u001b[0m                                 Traceback (most recent call last)",
      "\u001b[1;32m<ipython-input-20-50ffbc8045a0>\u001b[0m in \u001b[0;36m<module>\u001b[1;34m\u001b[0m\n\u001b[1;32m----> 1\u001b[1;33m \u001b[0mdf\u001b[0m\u001b[1;33m.\u001b[0m\u001b[0mto_excel\u001b[0m\u001b[1;33m(\u001b[0m\u001b[1;33m)\u001b[0m\u001b[1;33m\u001b[0m\u001b[1;33m\u001b[0m\u001b[0m\n\u001b[0m",
      "\u001b[1;31mTypeError\u001b[0m: to_excel() missing 1 required positional argument: 'excel_writer'"
     ]
    }
   ],
   "source": [
    "df.to_excel('filtro_arxiv.xlsx', index=False)"
   ]
  }
 ]
}